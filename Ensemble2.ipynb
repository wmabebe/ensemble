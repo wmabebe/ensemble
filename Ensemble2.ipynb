{
 "cells": [
  {
   "cell_type": "code",
   "execution_count": 11,
   "metadata": {},
   "outputs": [],
   "source": [
    "from sklearn.ensemble import RandomForestClassifier,AdaBoostClassifier\n",
    "import pandas as pd\n",
    "import numpy as np\n",
    "from sklearn.metrics import accuracy_score,confusion_matrix\n",
    "from sklearn.model_selection import train_test_split\n",
    "from sklearn.naive_bayes import GaussianNB\n",
    "from sklearn.neural_network import MLPClassifier\n",
    "from sklearn.neighbors import KNeighborsClassifier\n",
    "from sklearn.linear_model import LogisticRegression\n",
    "from sklearn.tree import DecisionTreeClassifier"
   ]
  },
  {
   "cell_type": "code",
   "execution_count": 12,
   "metadata": {},
   "outputs": [],
   "source": [
    "data_train = []\n",
    "data_test = []\n",
    "labels_train = []\n",
    "labels_test = []\n",
    "with open(\"lab4-train.csv\") as datafile:\n",
    "    for line in datafile.readlines():\n",
    "        row = [int(x) for x in line.split(\",\")]\n",
    "        data_train.append(row[:-1])\n",
    "        labels_train.append(row[4])\n",
    "\n",
    "with open(\"lab4-test.csv\") as datafile:\n",
    "    for line in datafile.readlines():\n",
    "        row = [int(x) for x in line.split(\",\")]\n",
    "        data_test.append(row[:-1])\n",
    "        labels_test.append(row[4])"
   ]
  },
  {
   "cell_type": "code",
   "execution_count": 13,
   "metadata": {},
   "outputs": [],
   "source": [
    "predictions = []\n",
    "accuracies = []\n",
    "matricies = []\n",
    "names = [\"Random Forest\",\"AdaBoost\",\"Gaussian NB\",\"MLP NN\",\"KNN\",\"Logistic Regression\",\"Decision Tree\"]\n",
    "models = []\n",
    "models.append(RandomForestClassifier(n_jobs=2, random_state=68,n_estimators=30,max_depth=5))\n",
    "models.append(AdaBoostClassifier(n_estimators=80,learning_rate=0.1,algorithm='SAMME.R'))\n",
    "models.append(GaussianNB())\n",
    "models.append(MLPClassifier(solver='lbfgs', alpha=1e-4,hidden_layer_sizes=(6, 9), random_state=1))\n",
    "models.append(KNeighborsClassifier(n_neighbors=9))\n",
    "models.append(LogisticRegression(random_state=0, solver='lbfgs',multi_class='multinomial'))\n",
    "models.append(DecisionTreeClassifier(max_depth=3))"
   ]
  },
  {
   "cell_type": "code",
   "execution_count": 14,
   "metadata": {},
   "outputs": [
    {
     "name": "stdout",
     "output_type": "stream",
     "text": [
      "\n",
      "Random Forest 83.06%\n",
      "[[228  10]\n",
      " [ 41  22]]\n",
      "\n",
      "AdaBoost 80.40%\n",
      "[[236   2]\n",
      " [ 57   6]]\n",
      "\n",
      "Gaussian NB 80.07%\n",
      "[[226  12]\n",
      " [ 48  15]]\n",
      "\n",
      "MLP NN 81.40%\n",
      "[[231   7]\n",
      " [ 49  14]]\n",
      "\n",
      "KNN 78.41%\n",
      "[[229   9]\n",
      " [ 56   7]]\n",
      "\n",
      "Logistic Regression 80.73%\n",
      "[[232   6]\n",
      " [ 52  11]]\n",
      "\n",
      "Decision Tree 81.40%\n",
      "[[221  17]\n",
      " [ 39  24]]\n"
     ]
    }
   ],
   "source": [
    "for i in range(len(models)):\n",
    "    models[i].fit(data_train, labels_train)\n",
    "    y_pred = models[i].predict(data_test)\n",
    "    predictions.append(y_pred)\n",
    "    acc = accuracy_score(labels_test, y_pred, normalize=1)\n",
    "    print(\"\\n\" + names[i] + ' {0:.2f}%'.format(acc * 100))\n",
    "    accuracies.append(acc)\n",
    "    matrix = confusion_matrix(labels_test,y_pred)\n",
    "    print (matrix)\n",
    "    matricies.append(matrix)"
   ]
  },
  {
   "cell_type": "code",
   "execution_count": 48,
   "metadata": {},
   "outputs": [
    {
     "name": "stdout",
     "output_type": "stream",
     "text": [
      "Ensemble  83.06%\n",
      "[[229   9]\n",
      " [ 42  21]]\n"
     ]
    }
   ],
   "source": [
    "ensemble_y = []\n",
    "weights_1 = [1,1,1,1,1,1,1]\n",
    "weights_2 = [1,2,1,2,1,1,3]\n",
    "for i in range(len(predictions[0])):\n",
    "    _0 = _1 = 0\n",
    "    for j in range(2,len(predictions)):\n",
    "        _0 += weights_2[j] if predictions[j][i] == 0 else 0\n",
    "        _1 += weights_2[j] if predictions[j][i] == 1 else 0\n",
    "    ensemble_y.append( 0 if _0 > _1 else 1)\n",
    "acc = accuracy_score(labels_test, ensemble_y)\n",
    "matrix = confusion_matrix(labels_test,ensemble_y)\n",
    "print(\"Ensemble \" + ' {0:.2f}%'.format(acc * 100))\n",
    "print (matrix)"
   ]
  },
  {
   "cell_type": "code",
   "execution_count": 51,
   "metadata": {},
   "outputs": [
    {
     "name": "stdout",
     "output_type": "stream",
     "text": [
      "Ensemble  83.39%\n",
      "[[228  10]\n",
      " [ 40  23]]\n"
     ]
    }
   ],
   "source": [
    "ensemble_y = []\n",
    "weights_1 = [1,1,1,1,1,1,1]\n",
    "weights_2 = [3,1,1,1,1,1,2]\n",
    "for i in range(len(predictions[0])):\n",
    "    _0 = _1 = 0\n",
    "    for j in range(len(predictions)):\n",
    "        _0 += weights_2[j] if predictions[j][i] == 0 else 0\n",
    "        _1 += weights_2[j] if predictions[j][i] == 1 else 0\n",
    "    ensemble_y.append( 0 if _0 > _1 else 1)\n",
    "acc = accuracy_score(labels_test, ensemble_y)\n",
    "matrix = confusion_matrix(labels_test,ensemble_y)\n",
    "print(\"Ensemble \" + ' {0:.2f}%'.format(acc * 100))\n",
    "print (matrix)"
   ]
  },
  {
   "cell_type": "code",
   "execution_count": null,
   "metadata": {},
   "outputs": [],
   "source": []
  }
 ],
 "metadata": {
  "kernelspec": {
   "display_name": "Python 3",
   "language": "python",
   "name": "python3"
  },
  "language_info": {
   "codemirror_mode": {
    "name": "ipython",
    "version": 3
   },
   "file_extension": ".py",
   "mimetype": "text/x-python",
   "name": "python",
   "nbconvert_exporter": "python",
   "pygments_lexer": "ipython3",
   "version": "3.7.1"
  }
 },
 "nbformat": 4,
 "nbformat_minor": 2
}
