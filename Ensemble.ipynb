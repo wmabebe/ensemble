{
 "cells": [
  {
   "cell_type": "code",
   "execution_count": 194,
   "metadata": {},
   "outputs": [],
   "source": [
    "from sklearn.ensemble import RandomForestClassifier,AdaBoostClassifier\n",
    "import pandas as pd\n",
    "import numpy as np\n",
    "from sklearn.metrics import accuracy_score,confusion_matrix\n",
    "from sklearn.model_selection import train_test_split\n",
    "from sklearn.naive_bayes import GaussianNB\n",
    "from sklearn.neural_network import MLPClassifier\n",
    "from sklearn.neighbors import KNeighborsClassifier\n",
    "from sklearn.linear_model import LogisticRegression\n",
    "from sklearn.tree import DecisionTreeClassifier"
   ]
  },
  {
   "cell_type": "code",
   "execution_count": 154,
   "metadata": {},
   "outputs": [],
   "source": [
    "data = []\n",
    "labels = []\n",
    "with open(\"transfusion.data\") as datafile:\n",
    "    for line in datafile.readlines():\n",
    "        row = [int(x) for x in line.split(\",\")]\n",
    "        data.append(row[:-1])\n",
    "        labels.append(row[4])\n",
    "\n",
    "data = np.array(data)\n",
    "labels = np.array(labels)\n",
    "data_train, data_test, labels_train, labels_test = train_test_split(data, labels, test_size=0.20, random_state=37,stratify=labels)\n"
   ]
  },
  {
   "cell_type": "code",
   "execution_count": 155,
   "metadata": {},
   "outputs": [],
   "source": [
    "predictions = []\n",
    "accuracies = []\n",
    "matricies = []\n",
    "names = [\"Random Forest\",\"AdaBoost\",\"Gaussian NB\",\"MLP NN\",\"KNN\",\"Logistic Regression\",\"Decision Tree\"]\n",
    "models = []\n",
    "models.append(RandomForestClassifier(n_jobs=2, random_state=68,n_estimators=30,max_depth=5))\n",
    "models.append(AdaBoostClassifier(n_estimators=80,learning_rate=0.1,algorithm='SAMME.R'))\n",
    "models.append(GaussianNB())\n",
    "models.append(MLPClassifier(solver='lbfgs', alpha=1e-4,hidden_layer_sizes=(6, 9), random_state=1))\n",
    "models.append(KNeighborsClassifier(n_neighbors=9))\n",
    "models.append(LogisticRegression(random_state=0, solver='lbfgs',multi_class='multinomial'))\n",
    "models.append(DecisionTreeClassifier(max_depth=3))"
   ]
  },
  {
   "cell_type": "code",
   "execution_count": 156,
   "metadata": {},
   "outputs": [
    {
     "name": "stdout",
     "output_type": "stream",
     "text": [
      "\n",
      "Random Forest 82.00%\n",
      "[[106   8]\n",
      " [ 19  17]]\n",
      "\n",
      "AdaBoost 79.33%\n",
      "[[114   0]\n",
      " [ 31   5]]\n",
      "\n",
      "Gaussian NB 74.67%\n",
      "[[105   9]\n",
      " [ 29   7]]\n",
      "\n",
      "MLP NN 80.00%\n",
      "[[107   7]\n",
      " [ 23  13]]\n",
      "\n",
      "KNN 78.67%\n",
      "[[111   3]\n",
      " [ 29   7]]\n",
      "\n",
      "Logistic Regression 78.67%\n",
      "[[112   2]\n",
      " [ 30   6]]\n",
      "\n",
      "Decesion Tree 77.33%\n",
      "[[102  12]\n",
      " [ 22  14]]\n"
     ]
    }
   ],
   "source": [
    "for i in range(len(models)):\n",
    "    models[i].fit(data_train, labels_train)\n",
    "    y_pred = models[i].predict(data_test)\n",
    "    predictions.append(y_pred)\n",
    "    acc = accuracy_score(labels_test, y_pred, normalize=1)\n",
    "    print(\"\\n\" + names[i] + ' {0:.2f}%'.format(acc * 100))\n",
    "    accuracies.append(acc)\n",
    "    matrix = confusion_matrix(labels_test,y_pred)\n",
    "    print (matrix)\n",
    "    matricies.append(matrix)"
   ]
  },
  {
   "cell_type": "code",
   "execution_count": 192,
   "metadata": {},
   "outputs": [
    {
     "name": "stdout",
     "output_type": "stream",
     "text": [
      "Ensemble  80.67%\n",
      "[[111   3]\n",
      " [ 26  10]]\n"
     ]
    }
   ],
   "source": [
    "ensemble_y = []\n",
    "weights_1 = [1,1,1,1,1,1,1]\n",
    "weights_2 = [18,6,2,7,4,4,4]\n",
    "for i in range(len(predictions[0])):\n",
    "    _0 = _1 = 0\n",
    "    for j in range(2,len(predictions)):\n",
    "        _0 += weights_2[j] if predictions[j][i] == 0 else 0\n",
    "        _1 += weights_2[j] if predictions[j][i] == 1 else 0\n",
    "    ensemble_y.append( 0 if _0 > _1 else 1)\n",
    "acc = accuracy_score(labels_test, ensemble_y)\n",
    "matrix = confusion_matrix(labels_test,ensemble_y)\n",
    "print(\"Ensemble \" + ' {0:.2f}%'.format(acc * 100))\n",
    "print (matrix)"
   ]
  },
  {
   "cell_type": "code",
   "execution_count": 193,
   "metadata": {},
   "outputs": [
    {
     "name": "stdout",
     "output_type": "stream",
     "text": [
      "Ensemble  82.67%\n",
      "[[112   2]\n",
      " [ 24  12]]\n"
     ]
    }
   ],
   "source": [
    "ensemble_y = []\n",
    "weights_1 = [1,1,1,1,1,1,1]\n",
    "weights_2 = [8,6,2,7,4,4,4]\n",
    "for i in range(len(predictions[0])):\n",
    "    _0 = _1 = 0\n",
    "    for j in range(len(predictions)):\n",
    "        _0 += weights_2[j] if predictions[j][i] == 0 else 0\n",
    "        _1 += weights_2[j] if predictions[j][i] == 1 else 0\n",
    "    ensemble_y.append( 0 if _0 > _1 else 1)\n",
    "acc = accuracy_score(labels_test, ensemble_y)\n",
    "matrix = confusion_matrix(labels_test,ensemble_y)\n",
    "print(\"Ensemble \" + ' {0:.2f}%'.format(acc * 100))\n",
    "print (matrix)"
   ]
  },
  {
   "cell_type": "code",
   "execution_count": null,
   "metadata": {},
   "outputs": [],
   "source": []
  }
 ],
 "metadata": {
  "kernelspec": {
   "display_name": "Python 3",
   "language": "python",
   "name": "python3"
  },
  "language_info": {
   "codemirror_mode": {
    "name": "ipython",
    "version": 3
   },
   "file_extension": ".py",
   "mimetype": "text/x-python",
   "name": "python",
   "nbconvert_exporter": "python",
   "pygments_lexer": "ipython3",
   "version": "3.7.1"
  }
 },
 "nbformat": 4,
 "nbformat_minor": 2
}
